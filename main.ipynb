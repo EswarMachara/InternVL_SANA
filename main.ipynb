{
 "cells": [
  {
   "cell_type": "code",
   "execution_count": 4,
   "metadata": {},
   "outputs": [],
   "source": [
    "# !git lfs install || true\n",
    "# !pip -q install --upgrade pip"
   ]
  },
  {
   "cell_type": "code",
   "execution_count": null,
   "metadata": {},
   "outputs": [],
   "source": [
    "!git clone https://github.com/huggingface/diffusers\n",
    "%cd diffusers\n",
    "!pip install -e ."
   ]
  },
  {
   "cell_type": "code",
   "execution_count": null,
   "metadata": {},
   "outputs": [],
   "source": [
    "!pip install -r examples/dreambooth/requirements_sana.txt"
   ]
  },
  {
   "cell_type": "code",
   "execution_count": 7,
   "metadata": {},
   "outputs": [],
   "source": [
    "!pip install -q \"peft>=0.14.0\"\n",
    "!pip install -q accelerate transformers datasets huggingface_hub safetensors wandb"
   ]
  },
  {
   "cell_type": "code",
   "execution_count": null,
   "metadata": {},
   "outputs": [],
   "source": [
    "from accelerate.utils import write_basic_config\n",
    "\n",
    "write_basic_config()\n",
    "print(\"Wrote default accelerate config.\")"
   ]
  },
  {
   "cell_type": "code",
   "execution_count": null,
   "metadata": {},
   "outputs": [],
   "source": [
    "# This script downloads the Naruto BLIP Captions dataset from Hugging Face\n",
    "# and saves the images and captions to a local directory.\n",
    "# Requirements: Run in a Python environment with the following libraries installed:\n",
    "# pip install datasets pillow\n",
    "\n",
    "import os\n",
    "from datasets import load_dataset\n",
    "from PIL import Image  # For saving images\n",
    "\n",
    "# Load the dataset from Hugging Face\n",
    "dataset = load_dataset(\"lambdalabs/naruto-blip-captions\")\n",
    "\n",
    "# Create a directory to save the dataset\n",
    "save_dir = \"naruto_dataset\"\n",
    "os.makedirs(save_dir, exist_ok=True)\n",
    "\n",
    "# The dataset has a 'train' split with images and captions\n",
    "# Iterate through the dataset and save each image and its caption\n",
    "for idx, item in enumerate(dataset['train']):\n",
    "    # Save the image\n",
    "    image_path = os.path.join(save_dir, f\"image_{idx:04d}.jpg\")\n",
    "    item['image'].save(image_path)\n",
    "    \n",
    "    # Save the caption to a text file\n",
    "    caption_path = os.path.join(save_dir, f\"caption_{idx:04d}.txt\")\n",
    "    with open(caption_path, \"w\", encoding=\"utf-8\") as f:\n",
    "        f.write(item['text'])\n",
    "\n",
    "print(f\"Dataset downloaded and saved to '{save_dir}'. Total items: {len(dataset['train'])}\")"
   ]
  },
  {
   "cell_type": "code",
   "execution_count": null,
   "metadata": {},
   "outputs": [],
   "source": [
    "save_dir = \"naruto_dataset\"\n",
    "\n",
    "# The sentence to append\n",
    "append_text = \" in Naruto Anime style.\"\n",
    "\n",
    "# Iterate through all files in the directory\n",
    "for filename in os.listdir(save_dir):\n",
    "    # Check if the file is a .txt file\n",
    "    if filename.endswith(\".txt\"):\n",
    "        file_path = os.path.join(save_dir, filename)\n",
    "        # Open the file in append mode and add the sentence\n",
    "        with open(file_path, \"a\", encoding=\"utf-8\") as f:\n",
    "            f.write(append_text)\n",
    "\n",
    "print(f\"Appended '{append_text}' to all .txt files in '{save_dir}'.\")"
   ]
  },
  {
   "cell_type": "code",
   "execution_count": 1,
   "metadata": {},
   "outputs": [],
   "source": [
    "import warnings\n",
    "warnings.filterwarnings('ignore')"
   ]
  },
  {
   "cell_type": "code",
   "execution_count": 2,
   "metadata": {},
   "outputs": [],
   "source": [
    "!pip install gdown -q"
   ]
  },
  {
   "cell_type": "code",
   "execution_count": null,
   "metadata": {},
   "outputs": [],
   "source": [
    "import gdown\n",
    "\n",
    "# Google Drive file ID\n",
    "file_id = \"16NR1_Zvronbla7j2v4W3_xX8lpVNnEFJ\"\n",
    "\n",
    "# URL format using ID\n",
    "url = f\"https://drive.google.com/uc?id={file_id}\"\n",
    "\n",
    "# Output file name\n",
    "output = \"PPE_SANA.zip\"\n",
    "\n",
    "# Download the file\n",
    "gdown.download(url, output, quiet=False)\n",
    "\n",
    "print(f\"✅ Download completed: {output}\")"
   ]
  },
  {
   "cell_type": "code",
   "execution_count": null,
   "metadata": {},
   "outputs": [],
   "source": [
    "# Path to your downloaded zip file\n",
    "zip_file = \"/teamspace/studios/this_studio/PPE_SANA.zip\"\n",
    "\n",
    "# Destination folder to extract\n",
    "extract_folder = \"/teamspace/studios/this_studio/PPE_SANA\"\n",
    "\n",
    "# Unzip the file\n",
    "!unzip -q {zip_file} -d {extract_folder}\n",
    "\n",
    "print(f\"✅ Zip file extracted to: {extract_folder}\")"
   ]
  },
  {
   "cell_type": "code",
   "execution_count": null,
   "metadata": {},
   "outputs": [],
   "source": [
    "%cd diffusers/examples/dreambooth/"
   ]
  },
  {
   "cell_type": "code",
   "execution_count": 1,
   "metadata": {},
   "outputs": [],
   "source": [
    "!cp /teamspace/studios/this_studio/diffusers/examples/dreambooth/train_dreambooth_lora_sana.py /teamspace/studios/this_studio/"
   ]
  },
  {
   "cell_type": "code",
   "execution_count": null,
   "metadata": {},
   "outputs": [],
   "source": [
    "!accelerate launch train_dreambooth_lora_sana.py \\\n",
    "  --pretrained_model_name_or_path=\"Efficient-Large-Model/Sana_1600M_1024px_diffusers\" \\\n",
    "  --instance_data_dir=\"/teamspace/studios/this_studio/PPE_SANA/content/street-work-1/valid/images\" \\\n",
    "  --output_dir=\"/teamspace/studios/this_studio/output/trained-sana-lora\" \\\n",
    "  --mixed_precision=\"bf16\" \\\n",
    "  --instance_prompt=\"A factory worker wearing PPE performing tasks with machinery\" \\\n",
    "  --max_sequence_length=1024 \\\n",
    "  --resolution=512 \\\n",
    "  --train_batch_size=2 \\\n",
    "  --gradient_accumulation_steps=2 \\\n",
    "  --gradient_checkpointing \\\n",
    "  --cache_latents \\\n",
    "  --lr_scheduler=\"constant\" \\\n",
    "  --learning_rate=5e-5 \\\n",
    "  --max_train_steps=300 \\\n",
    "  --validation_prompt=\"A worker wearing helmet, gloves, and safety vest performing maintenance on industrial equipment outdoors. The worker is handling insulators and electrical connections on high-voltage equipment, standing on scaffolding with proper PPE observed\" \\\n",
    "  --validation_epochs=25 \\\n",
    "  --seed=0 \\\n",
    "  --report_to tensorboard"
   ]
  },
  {
   "cell_type": "code",
   "execution_count": null,
   "metadata": {},
   "outputs": [],
   "source": [
    "!tensorboard --logdir=\"/teamspace/studios/this_studio/output/trained-sana-lora/logs\""
   ]
  }
 ],
 "metadata": {
  "language_info": {
   "name": "python"
  }
 },
 "nbformat": 4,
 "nbformat_minor": 2
}
